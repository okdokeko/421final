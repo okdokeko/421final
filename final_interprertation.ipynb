{
 "cells": [
  {
   "cell_type": "code",
   "execution_count": 1,
   "id": "05de6e05",
   "metadata": {},
   "outputs": [],
   "source": [
    "import numpy as np\n",
    "import pandas as pd\n",
    "import matplotlib.pyplot as plt\n",
    "import seaborn as sns\n",
    "import statsmodels.api as sm\n",
    "from sklearn.model_selection import train_test_split\n",
    "from sklearn.preprocessing import StandardScaler\n",
    "from sklearn.linear_model import LassoCV\n"
   ]
  },
  {
   "cell_type": "code",
   "execution_count": 2,
   "id": "1d7b60ac",
   "metadata": {},
   "outputs": [],
   "source": [
    "# I decided to do this with a package first to get an idea of what I am looking for since it is hard to develop without direction.\n",
    "# Loading my dataset\n",
    "df = pd.read_csv(\"IBMDataset.csv\")\n",
    "\n",
    "# Setting up the model\n",
    "y = df['MonthlyIncome']\n",
    "X = df.select_dtypes(include=[np.number]).drop(['MonthlyIncome', 'EmployeeNumber'], axis=1)\n",
    "X = X.dropna(axis=1)\n",
    "\n",
    "# Need to scale my data before I do feature selection:\n",
    "# I did z-scaling from sklearn: https://scikit-learn.org/stable/modules/generated/sklearn.preprocessing.StandardScaler.html\n",
    "scaler = StandardScaler()\n",
    "X_scaled = pd.DataFrame(scaler.fit_transform(X), columns=X.columns)"
   ]
  },
  {
   "cell_type": "markdown",
   "id": "2a2783e7",
   "metadata": {},
   "source": [
    "# Setting up with packages"
   ]
  },
  {
   "cell_type": "code",
   "execution_count": 3,
   "id": "21ee6cfd",
   "metadata": {},
   "outputs": [],
   "source": [
    "# Stole and modified this from my exam 2 but using a package for the meantime instead of my custom linear reg.\n",
    "# The idea of forward subset selection is basically to fit linear regressions with all of the features and keep the most impactful ones.\n",
    "def forward_selection(X, y, max_features=None):\n",
    "    # Keeping track of the currently selected/checked features to iterate through the remaining.\n",
    "    remaining_features = list(X.columns)\n",
    "    selected_features = []\n",
    "    current_score, best_new_score = 0.0, 0.0\n",
    "    max_features = max_features or len(remaining_features)\n",
    "\n",
    "    # While there are featrues that have not been checked.\n",
    "    while remaining_features and len(selected_features) < max_features:\n",
    "        scores_with_candidates = []\n",
    "        \n",
    "        # This is fitting a linear regression for each of the models using the statsmodels package\n",
    "        for candidate in remaining_features:\n",
    "            formula = selected_features + [candidate]\n",
    "            X_new = sm.add_constant(X[formula])\n",
    "            model = sm.OLS(y, X_new).fit()\n",
    "            score = model.rsquared_adj\n",
    "            scores_with_candidates.append((score, candidate))\n",
    "\n",
    "        # Here i check the best scores and rank the current features.\n",
    "        scores_with_candidates.sort(reverse=True)\n",
    "        best_new_score, best_candidate = scores_with_candidates[0]\n",
    "\n",
    "        # Checking if there is a new best feature, removing the used feature.\n",
    "        if best_new_score > current_score:\n",
    "            remaining_features.remove(best_candidate)\n",
    "            selected_features.append(best_candidate)\n",
    "            current_score = best_new_score\n",
    "            print(f\"Added: {best_candidate} | Adjusted R²: {current_score:.4f}\")\n",
    "        else:\n",
    "            break\n",
    "\n",
    "    return selected_features\n"
   ]
  },
  {
   "cell_type": "code",
   "execution_count": 4,
   "id": "182d71bc",
   "metadata": {},
   "outputs": [
    {
     "name": "stdout",
     "output_type": "stream",
     "text": [
      "Added: JobLevel | Adjusted R²: 0.9030\n",
      "Added: TotalWorkingYears | Adjusted R²: 0.9052\n",
      "Added: YearsWithCurrManager | Adjusted R²: 0.9059\n",
      "Added: DistanceFromHome | Adjusted R²: 0.9063\n",
      "Added: Age | Adjusted R²: 0.9065\n",
      "Added: YearsSinceLastPromotion | Adjusted R²: 0.9066\n",
      "Added: HourlyRate | Adjusted R²: 0.9066\n",
      "Final selected features: ['JobLevel', 'TotalWorkingYears', 'YearsWithCurrManager', 'DistanceFromHome', 'Age', 'YearsSinceLastPromotion', 'HourlyRate']\n"
     ]
    }
   ],
   "source": [
    "# Fitting and printing my results\n",
    "selected = forward_selection(X_scaled, y, max_features=10)\n",
    "print(\"Final selected features:\", selected)"
   ]
  },
  {
   "cell_type": "code",
   "execution_count": 5,
   "id": "636bb5df",
   "metadata": {},
   "outputs": [
    {
     "name": "stdout",
     "output_type": "stream",
     "text": [
      "                            OLS Regression Results                            \n",
      "==============================================================================\n",
      "Dep. Variable:          MonthlyIncome   R-squared:                       0.907\n",
      "Model:                            OLS   Adj. R-squared:                  0.907\n",
      "Method:                 Least Squares   F-statistic:                     2038.\n",
      "Date:                Tue, 13 May 2025   Prob (F-statistic):               0.00\n",
      "Time:                        18:22:17   Log-Likelihood:                -12771.\n",
      "No. Observations:                1470   AIC:                         2.556e+04\n",
      "Df Residuals:                    1462   BIC:                         2.560e+04\n",
      "Df Model:                           7                                         \n",
      "Covariance Type:            nonrobust                                         \n",
      "===========================================================================================\n",
      "                              coef    std err          t      P>|t|      [0.025      0.975]\n",
      "-------------------------------------------------------------------------------------------\n",
      "const                    6502.9313     37.524    173.303      0.000    6429.326    6576.537\n",
      "JobLevel                 4191.4913     60.462     69.324      0.000    4072.890    4310.093\n",
      "TotalWorkingYears         491.2028     75.377      6.517      0.000     343.345     639.061\n",
      "YearsWithCurrManager     -187.2307     46.582     -4.019      0.000    -278.606     -95.855\n",
      "DistanceFromHome         -104.1430     37.547     -2.774      0.006    -177.795     -30.491\n",
      "Age                      -103.9833     52.041     -1.998      0.046    -206.066      -1.901\n",
      "YearsSinceLastPromotion    61.7617     44.854      1.377      0.169     -26.223     149.746\n",
      "HourlyRate                 47.2101     37.607      1.255      0.210     -26.559     120.979\n",
      "==============================================================================\n",
      "Omnibus:                       11.420   Durbin-Watson:                   2.050\n",
      "Prob(Omnibus):                  0.003   Jarque-Bera (JB):               16.372\n",
      "Skew:                          -0.027   Prob(JB):                     0.000279\n",
      "Kurtosis:                       3.514   Cond. No.                         4.13\n",
      "==============================================================================\n",
      "\n",
      "Notes:\n",
      "[1] Standard Errors assume that the covariance matrix of the errors is correctly specified.\n"
     ]
    }
   ],
   "source": [
    "# Checking summary statistics (thankfully Statsmodel already does this)\n",
    "X_selected = sm.add_constant(X_scaled[selected])\n",
    "model = sm.OLS(y, X_selected).fit()\n",
    "print(model.summary())"
   ]
  },
  {
   "cell_type": "code",
   "execution_count": 6,
   "id": "50dc5caa",
   "metadata": {},
   "outputs": [
    {
     "data": {
      "image/png": "[encoded data removed]",
      "text/plain": [
       "<Figure size 1000x600 with 1 Axes>"
      ]
     },
     "metadata": {},
     "output_type": "display_data"
    }
   ],
   "source": [
    "# The purpose of this is to create a plot of confidence intervals, this is just an easy way to visualize the model.\n",
    "coefs = model.params.drop(\"const\")\n",
    "conf = model.conf_int().drop(\"const\")\n",
    "errors = coefs - conf[0]\n",
    "\n",
    "# Plotting with a bit of customization\n",
    "plt.figure(figsize=(10, 6))\n",
    "sns.barplot(x=coefs.values, y=coefs.index, orient='h', color='skyblue', xerr=errors.values)\n",
    "plt.axvline(x=0, color='black', linestyle='--')\n",
    "plt.title(\"95% Confidence Intervals\")\n",
    "plt.xlabel(\"Coefficient Value\")\n",
    "plt.ylabel(\"Features\")\n",
    "plt.show()\n",
    "# Used official documentation for the little customization tidbits: https://matplotlib.org/stable/users/explain/quick_start.html"
   ]
  },
  {
   "cell_type": "code",
   "execution_count": 7,
   "id": "5a5eaec6",
   "metadata": {},
   "outputs": [
    {
     "name": "stdout",
     "output_type": "stream",
     "text": [
      "Selected Features with Lasso: Index(['DistanceFromHome', 'HourlyRate', 'JobLevel', 'TotalWorkingYears',\n",
      "       'YearsWithCurrManager'],\n",
      "      dtype='object')\n",
      "R-squared: 0.9062828031563842\n"
     ]
    }
   ],
   "source": [
    "# I also wanted to run a quick check with \n",
    "lasso = LassoCV(cv=5, random_state=7) # running lasso with 5 cross validations and seed of 7 (my fav number)\n",
    "lasso.fit(X_scaled, y) # Re-using my scaled data\n",
    "\n",
    "# Getting results.\n",
    "selected_lasso_features = X.columns[lasso.coef_ != 0]\n",
    "print(\"Selected Features with Lasso:\", selected_lasso_features)\n",
    "print(\"R-squared:\", lasso.score(X_scaled, y))\n",
    "\n",
    "# This is pretty much identical to forward subset so i don't think its valuable to re-do this from scratch.\n",
    "# Used official documentation for the lasso: https://scikit-learn.org/stable/modules/generated/sklearn.linear_model.Lasso.html"
   ]
  },
  {
   "cell_type": "markdown",
   "id": "f97c6aed",
   "metadata": {},
   "source": [
    "# Setting up from scratch"
   ]
  },
  {
   "cell_type": "code",
   "execution_count": null,
   "id": "f0e3e36b",
   "metadata": {},
   "outputs": [],
   "source": []
  },
  {
   "cell_type": "code",
   "execution_count": null,
   "id": "a087d8fe",
   "metadata": {},
   "outputs": [],
   "source": []
  }
 ],
 "metadata": {
  "kernelspec": {
   "display_name": ".venv",
   "language": "python",
   "name": "python3"
  },
  "language_info": {
   "codemirror_mode": {
    "name": "ipython",
    "version": 3
   },
   "file_extension": ".py",
   "mimetype": "text/x-python",
   "name": "python",
   "nbconvert_exporter": "python",
   "pygments_lexer": "ipython3",
   "version": "3.10.12"
  }
 },
 "nbformat": 4,
 "nbformat_minor": 5
}

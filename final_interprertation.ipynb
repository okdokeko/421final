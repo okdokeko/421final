{
 "cells": [
  {
   "cell_type": "code",
   "execution_count": 1,
   "id": "05de6e05",
   "metadata": {},
   "outputs": [],
   "source": [
    "import numpy as np\n",
    "import pandas as pd\n",
    "import matplotlib.pyplot as plt\n",
    "import seaborn as sns\n",
    "import statsmodels.api as sm\n",
    "from sklearn.model_selection import train_test_split\n",
    "from sklearn.preprocessing import StandardScaler\n",
    "from sklearn.linear_model import LassoCV\n",
    "from sklearn.feature_selection import SequentialFeatureSelector\n",
    "from sklearn.linear_model import LinearRegression\n"
   ]
  },
  {
   "cell_type": "code",
   "execution_count": 2,
   "id": "1d7b60ac",
   "metadata": {},
   "outputs": [],
   "source": [
    "# I decided to do this with a package first to get an idea of what I am looking for since it is hard to develop without direction.\n",
    "# Loading my dataset\n",
    "ibm = pd.read_csv(\"IBMDataset.csv\")\n",
    "\n",
    "# Setting up the model\n",
    "y = ibm['MonthlyIncome']\n",
    "X = ibm.select_dtypes(include=[np.number]).drop(['MonthlyIncome', 'EmployeeNumber'], axis=1)\n",
    "X = X.dropna(axis=1)\n",
    "\n",
    "# Need to scale my data before I do feature selection:\n",
    "# I did z-scaling from sklearn: https://scikit-learn.org/stable/modules/generated/sklearn.preprocessing.StandardScaler.html\n",
    "scaler = StandardScaler()\n",
    "X_scaled = pd.DataFrame(scaler.fit_transform(X), columns=X.columns)"
   ]
  },
  {
   "cell_type": "markdown",
   "id": "2a2783e7",
   "metadata": {},
   "source": [
    "# Setting up with packages"
   ]
  },
  {
   "cell_type": "code",
   "execution_count": null,
   "id": "5e756914",
   "metadata": {},
   "outputs": [
    {
     "name": "stdout",
     "output_type": "stream",
     "text": [
      "\n",
      "Selected Features:\n",
      "['DistanceFromHome', 'HourlyRate', 'JobLevel', 'TotalWorkingYears', 'YearsSinceLastPromotion', 'YearsWithCurrManager']\n"
     ]
    }
   ],
   "source": [
    "# I decided to use a package first but my implementation was kind of bloated for forward selection so I dug around and found this package.\n",
    "# It is from SKlearn and is very effficient.\n",
    "estimator = LinearRegression()\n",
    "\n",
    "# Using sequential feature selector from sklearn:\n",
    "# Source: https://scikit-learn.org/stable/modules/generated/sklearn.feature_selection.SequentialFeatureSelector.html\n",
    "\n",
    "# Here i setup my feature selector, i messed around with the tolerance a bit, using r2 scoring since that is what my scratch model uses\n",
    "sfs = SequentialFeatureSelector(\n",
    "    estimator,\n",
    "    n_features_to_select=\"auto\",  # Use 'auto' to stop based on tolerance\n",
    "    tol=0.00001,  # Minimum score improvement to add a feature\n",
    "    direction=\"forward\",\n",
    "    scoring=\"r2\",\n",
    "    cv=5,\n",
    "    n_jobs=-1\n",
    ")\n",
    "\n",
    "# Fitting the selector to my model\n",
    "sfs.fit(X_scaled, ibm['MonthlyIncome'])\n",
    "\n",
    "# Gettting the selected features\n",
    "selected_features = list(X_scaled.columns[sfs.get_support()])\n",
    "print(\"\\nSelected Features:\")\n",
    "print(selected_features)"
   ]
  },
  {
   "cell_type": "code",
   "execution_count": 4,
   "id": "636bb5df",
   "metadata": {},
   "outputs": [
    {
     "name": "stdout",
     "output_type": "stream",
     "text": [
      "                            OLS Regression Results                            \n",
      "==============================================================================\n",
      "Dep. Variable:          MonthlyIncome   R-squared:                       0.907\n",
      "Model:                            OLS   Adj. R-squared:                  0.906\n",
      "Method:                 Least Squares   F-statistic:                     2373.\n",
      "Date:                Tue, 13 May 2025   Prob (F-statistic):               0.00\n",
      "Time:                        20:45:01   Log-Likelihood:                -12773.\n",
      "No. Observations:                1470   AIC:                         2.556e+04\n",
      "Df Residuals:                    1463   BIC:                         2.560e+04\n",
      "Df Model:                           6                                         \n",
      "Covariance Type:            nonrobust                                         \n",
      "===========================================================================================\n",
      "                              coef    std err          t      P>|t|      [0.025      0.975]\n",
      "-------------------------------------------------------------------------------------------\n",
      "const                    6502.9313     37.562    173.126      0.000    6429.250    6576.612\n",
      "DistanceFromHome         -103.7603     37.585     -2.761      0.006    -177.487     -30.034\n",
      "HourlyRate                 44.9470     37.628      1.195      0.232     -28.864     118.758\n",
      "JobLevel                 4196.6586     60.468     69.403      0.000    4078.045    4315.272\n",
      "TotalWorkingYears         409.4326     63.365      6.462      0.000     285.137     533.728\n",
      "YearsSinceLastPromotion    63.4894     44.891      1.414      0.157     -24.568     151.547\n",
      "YearsWithCurrManager     -173.5684     46.125     -3.763      0.000    -264.047     -83.090\n",
      "==============================================================================\n",
      "Omnibus:                       11.061   Durbin-Watson:                   2.048\n",
      "Prob(Omnibus):                  0.004   Jarque-Bera (JB):               15.764\n",
      "Skew:                          -0.023   Prob(JB):                     0.000378\n",
      "Kurtosis:                       3.505   Cond. No.                         3.41\n",
      "==============================================================================\n",
      "\n",
      "Notes:\n",
      "[1] Standard Errors assume that the covariance matrix of the errors is correctly specified.\n"
     ]
    }
   ],
   "source": [
    "# Checking summary statistics (thankfully Statsmodel already does this)\n",
    "X_selected = sm.add_constant(X_scaled[selected_features])\n",
    "model = sm.OLS(ibm['MonthlyIncome'], X_selected).fit()\n",
    "print(model.summary())"
   ]
  },
  {
   "cell_type": "code",
   "execution_count": 5,
   "id": "50dc5caa",
   "metadata": {},
   "outputs": [
    {
     "data": {
      "image/png": "[encoded data removed]",
      "text/plain": [
       "<Figure size 1000x600 with 1 Axes>"
      ]
     },
     "metadata": {},
     "output_type": "display_data"
    }
   ],
   "source": [
    "# The purpose of this is to create a plot of confidence intervals, this is just an easy way to visualize the model.\n",
    "coefs = model.params.drop(\"const\")\n",
    "conf = model.conf_int().drop(\"const\")\n",
    "errors = coefs - conf[0]\n",
    "\n",
    "# Plotting with a bit of customization\n",
    "plt.figure(figsize=(10, 6))\n",
    "sns.barplot(x=coefs.values, y=coefs.index, orient='h', color='skyblue', xerr=errors.values)\n",
    "plt.axvline(x=0, color='black', linestyle='--')\n",
    "plt.title(\"95% Confidence Intervals\")\n",
    "plt.xlabel(\"Coefficient Value\")\n",
    "plt.ylabel(\"Features\")\n",
    "plt.show()\n",
    "# Used official documentation for the little customization tidbits: https://matplotlib.org/stable/users/explain/quick_start.html"
   ]
  },
  {
   "cell_type": "code",
   "execution_count": 6,
   "id": "5a5eaec6",
   "metadata": {},
   "outputs": [
    {
     "name": "stdout",
     "output_type": "stream",
     "text": [
      "Selected Features with Lasso: Index(['DistanceFromHome', 'HourlyRate', 'JobLevel', 'TotalWorkingYears',\n",
      "       'YearsWithCurrManager'],\n",
      "      dtype='object')\n",
      "R^2: 0.9062828031563842\n"
     ]
    }
   ],
   "source": [
    "# I also wanted to run a quick check with \n",
    "lasso = LassoCV(cv=5, random_state=7) # running lasso with 5 cross validations and seed of 7 (my fav number)\n",
    "lasso.fit(X_scaled, y) # Re-using my scaled data\n",
    "\n",
    "# Getting results.\n",
    "selected_lasso_features = X.columns[lasso.coef_ != 0]\n",
    "print(\"Selected Features with Lasso:\", selected_lasso_features)\n",
    "print(\"R^2:\", lasso.score(X_scaled, y))\n",
    "\n",
    "# This is pretty much identical to forward subset so i don't think its valuable to re-do this from scratch.\n",
    "# Used official documentation for the lasso: https://scikit-learn.org/stable/modules/generated/sklearn.linear_model.Lasso.html"
   ]
  },
  {
   "cell_type": "markdown",
   "id": "f97c6aed",
   "metadata": {},
   "source": [
    "# Setting up from scratch"
   ]
  },
  {
   "cell_type": "markdown",
   "id": "d550d0c8",
   "metadata": {},
   "source": [
    "Most of this code comes from my hw 3 (simple linear regression class) and exam 2 (implemented forward subset selection).\n",
    "\n",
    "I will point out any new code and mention where it came from and/or anotate it."
   ]
  },
  {
   "cell_type": "markdown",
   "id": "21767ce0",
   "metadata": {},
   "source": [
    "### Setting up my classes"
   ]
  },
  {
   "cell_type": "code",
   "execution_count": 7,
   "id": "a087d8fe",
   "metadata": {},
   "outputs": [],
   "source": [
    "# My code for linear reg from hw 3: (I had to add the r_squared feature to work with the code from medium that i had used for exam 2)\n",
    "class MyLinearReg():\n",
    "    # Here I am creating a constructor for my class\n",
    "    def __init__(self, learning_rate, it):\n",
    "        self.learning_rate = learning_rate # This if for gradient descent\n",
    "        self.it = it # This is for gradient decent\n",
    "        \n",
    "    # This trains the model\n",
    "    def fit(self, X, Y):\n",
    "        # Initializing X and Y\n",
    "        X = np.array(X)\n",
    "        Y = np.array(Y)\n",
    "        \n",
    "        # n is the number of features (2)\n",
    "        self.m, self.n = X.shape \n",
    "        \n",
    "        # Initializing my weight\n",
    "        self.B = np.zeros(self.n) # Modified this to allow for more B\n",
    "        self.b_0 = 0\n",
    "        self.X = X\n",
    "        self.Y = Y\n",
    "        \n",
    "        # This is the gradient decent\n",
    "        for i in range(self.it):\n",
    "            self.update_weights()\n",
    "        return self\n",
    "    \n",
    "    # This is the implementation of gradient decent formula\n",
    "    def update_weights(self):\n",
    "        Y_pred = self.predict(self.X)\n",
    "        dB = -(2 * (self.X.T).dot(self.Y - Y_pred)) / self.m\n",
    "        db_0 = -2 * np.sum(self.Y - Y_pred) / self.m\n",
    "        \n",
    "        # Here the weight is adjusted according to the learning rate.\n",
    "        self.B = self.B - self.learning_rate * dB\n",
    "        self.b_0 = self.b_0 - self.learning_rate * db_0\n",
    "        \n",
    "        return self\n",
    "    \n",
    "    def predict(self, X):\n",
    "        return X.dot(self.B) + self.b_0 \n",
    "    \n",
    "    def describe(self):\n",
    "        print(\"The values of B is:\", self.B)\n",
    "        print(\"The value of B_0 is: \", self.b_0)\n",
    "        \n",
    "    # I had to add this for the forward stepwise, i just used the r^2 formula we have covered in book/class\n",
    "    # also used this for formula: https://en.wikipedia.org/wiki/Coefficient_of_determination\n",
    "    def r_squared(self):\n",
    "        y_pred = self.predict(self.X)\n",
    "        ss_res = np.sum((self.Y - y_pred) ** 2)\n",
    "        ss_tot = np.sum((self.Y - np.mean(self.Y)) ** 2)\n",
    "        r2 = 1 - (ss_res / ss_tot)\n",
    "        return r2"
   ]
  },
  {
   "cell_type": "code",
   "execution_count": null,
   "id": "e13dbb82",
   "metadata": {},
   "outputs": [
    {
     "name": "stdout",
     "output_type": "stream",
     "text": [
      "Age                         float64\n",
      "DailyRate                   float64\n",
      "DistanceFromHome            float64\n",
      "Education                   float64\n",
      "EmployeeCount               float64\n",
      "EnvironmentSatisfaction     float64\n",
      "HourlyRate                  float64\n",
      "JobInvolvement              float64\n",
      "JobLevel                    float64\n",
      "JobSatisfaction             float64\n",
      "MonthlyRate                 float64\n",
      "NumCompaniesWorked          float64\n",
      "PercentSalaryHike           float64\n",
      "PerformanceRating           float64\n",
      "RelationshipSatisfaction    float64\n",
      "StandardHours               float64\n",
      "StockOptionLevel            float64\n",
      "TotalWorkingYears           float64\n",
      "TrainingTimesLastYear       float64\n",
      "WorkLifeBalance             float64\n",
      "YearsAtCompany              float64\n",
      "YearsInCurrentRole          float64\n",
      "YearsSinceLastPromotion     float64\n",
      "YearsWithCurrManager        float64\n",
      "dtype: object\n"
     ]
    }
   ],
   "source": [
    "# Unlike exam 2, I don't need to drop all non numeric since my data has already been scaled (removed categorical)\n",
    "print(X_scaled.dtypes) # everything is already numerical."
   ]
  },
  {
   "cell_type": "code",
   "execution_count": 9,
   "id": "3f985ac7",
   "metadata": {},
   "outputs": [
    {
     "name": "stdout",
     "output_type": "stream",
     "text": [
      "Step: 1\n",
      "Selected features: ['JobLevel']\n",
      "Adjusted R^2 val: 0.9031\n",
      "===============\n",
      "Step: 2\n",
      "Selected features: ['JobLevel', 'TotalWorkingYears']\n",
      "Adjusted R^2 val: 0.9053\n",
      "===============\n",
      "Step: 3\n",
      "Selected features: ['JobLevel', 'TotalWorkingYears', 'YearsWithCurrManager']\n",
      "Adjusted R^2 val: 0.9061\n",
      "===============\n",
      "Step: 4\n",
      "Selected features: ['JobLevel', 'TotalWorkingYears', 'YearsWithCurrManager', 'DistanceFromHome']\n",
      "Adjusted R^2 val: 0.9066\n",
      "===============\n",
      "Step: 5\n",
      "Selected features: ['JobLevel', 'TotalWorkingYears', 'YearsWithCurrManager', 'DistanceFromHome', 'Age']\n",
      "Adjusted R^2 val: 0.9068\n",
      "===============\n",
      "Step: 6\n",
      "Selected features: ['JobLevel', 'TotalWorkingYears', 'YearsWithCurrManager', 'DistanceFromHome', 'Age', 'YearsSinceLastPromotion']\n",
      "Adjusted R^2 val: 0.9069\n",
      "===============\n",
      "The values of B is: [4161.70848497  545.41673453 -166.9978789  -102.20219375 -122.59648508\n",
      "   70.90797254  -51.50518724]\n",
      "The value of B_0 is:  6502.931279379231\n",
      "\n",
      "\n",
      "Eliminated variables:\n",
      "{'StandardHours', 'EmployeeCount', 'PerformanceRating', 'MonthlyRate', 'YearsInCurrentRole', 'StockOptionLevel', 'YearsAtCompany', 'NumCompaniesWorked', 'Education', 'HourlyRate', 'EnvironmentSatisfaction', 'PercentSalaryHike', 'DailyRate', 'WorkLifeBalance', 'JobInvolvement', 'TrainingTimesLastYear', 'JobSatisfaction', 'RelationshipSatisfaction'}\n"
     ]
    }
   ],
   "source": [
    "# This is my forward subset selection from exam 2 with some minor modifications\n",
    "ar2 = {}\n",
    "candidates = []\n",
    "last_max = -1\n",
    "\n",
    "# I added this since it was selecting too many features and I wanted to make the model more strict:\n",
    "MIN_IMPROVEMENT = 0.0001\n",
    "\n",
    "# The algorithm just runs until there is no more improvement\n",
    "while True:\n",
    "    ar2.clear()  # I reset this to ensure it is not bloated\n",
    "\n",
    "    # Make sure that each feature is tested\n",
    "    for feature in X_scaled.drop(columns=candidates).columns:\n",
    "        current_features = candidates + [feature]\n",
    "        \n",
    "        # Train the model with the custom implementation from hw3\n",
    "        # I did guess and check for the parameters, higher learning rates gave me nan and lower learning rates were too inaccurate\n",
    "        model = MyLinearReg(it=10000, learning_rate=0.001)\n",
    "        model.fit(X_scaled[current_features].values, ibm['MonthlyIncome'].values)\n",
    "        \n",
    "        # Calculate adjusted R2 val for checking improvement\n",
    "        ar2[feature] = model.r_squared()\n",
    "\n",
    "    # Find the best new feature from the model\n",
    "    max_ar2 = max(ar2.values())\n",
    "    max_ar2_key = max(ar2, key=ar2.get)\n",
    "\n",
    "    # Checking for improvement in the model\n",
    "    if max_ar2 > last_max + MIN_IMPROVEMENT: # small workaround to ensure that the R2 value increases more than like 0.0000000001\n",
    "        candidates.append(max_ar2_key)\n",
    "        last_max = max_ar2\n",
    "\n",
    "        print(f\"Step: {len(candidates)}\")\n",
    "        print(f\"Selected features: {candidates}\")\n",
    "        print(f\"Adjusted R^2 val: {max_ar2:.4f}\")\n",
    "        print(\"===============\")\n",
    "    else:\n",
    "        # If the code ends here the is no longer improving at this point so stop the execution\n",
    "        model.describe()\n",
    "        break\n",
    "\n",
    "print(\"\\n\\nEliminated variables:\")\n",
    "print(set(X_scaled.columns).difference(candidates))"
   ]
  },
  {
   "cell_type": "code",
   "execution_count": null,
   "id": "aad5b6a3",
   "metadata": {},
   "outputs": [
    {
     "name": "stdout",
     "output_type": "stream",
     "text": [
      "The values of B is: [3722.28498768   82.75753877  -64.62488884  -16.74099522  -30.57084182\n",
      "   20.19466473]\n",
      "The value of B_0 is:  -579.1237845893536\n"
     ]
    },
    {
     "data": {
      "text/plain": [
       "np.float64(0.9059836698318269)"
      ]
     },
     "execution_count": 10,
     "metadata": {},
     "output_type": "execute_result"
    }
   ],
   "source": [
    "# Fitting model with everything from my forward subset selection:\n",
    "X = ibm[['JobLevel', 'TotalWorkingYears', 'YearsWithCurrManager', 'DistanceFromHome', 'Age', 'YearsSinceLastPromotion']]\n",
    "Y = ibm['MonthlyIncome']\n",
    "\n",
    "# Tweaked around the parameters and this gave me the best R^2 value.\n",
    "model = MyLinearReg(learning_rate=0.0001, it=100000)\n",
    "\n",
    "model.fit(X, Y)\n",
    "\n",
    "# Getting the summary from my class\n",
    "model.describe()\n",
    "model.r_squared()"
   ]
  },
  {
   "cell_type": "markdown",
   "id": "cf0eeb2e",
   "metadata": {},
   "source": [
    "### Takeaways:\n",
    "My forward subset selection performed really well, almost identical to the package execution. My final selected features were:\n",
    "\n",
    "> JobLevel, TotalWorkingYears, YearsWithCurrManager, DistanceFromHome, Age, YearsSinceLastPromotion;\n",
    "\n",
    "Which is almost identical to the model done with packages with a few small differences.\n",
    "\n",
    "My coefficients side by side are as follows:\n",
    "\n",
    "My model:\n",
    "> 3722.28498768     82.75753877     -64.62488884    -16.74099522    -30.57084182    20.19466473\n",
    "\n",
    "And my r-squared value was: 0.906, which is only a tad behind the package model at 0.907.\n",
    "\n",
    "Overall, I am very happy with my model and think that it performs surprisingly well."
   ]
  },
  {
   "cell_type": "markdown",
   "id": "4ae7398b",
   "metadata": {},
   "source": [
    "# Model Evaluation"
   ]
  },
  {
   "cell_type": "code",
   "execution_count": null,
   "id": "109c2f51",
   "metadata": {},
   "outputs": [],
   "source": []
  }
 ],
 "metadata": {
  "kernelspec": {
   "display_name": ".venv",
   "language": "python",
   "name": "python3"
  },
  "language_info": {
   "codemirror_mode": {
    "name": "ipython",
    "version": 3
   },
   "file_extension": ".py",
   "mimetype": "text/x-python",
   "name": "python",
   "nbconvert_exporter": "python",
   "pygments_lexer": "ipython3",
   "version": "3.10.12"
  }
 },
 "nbformat": 4,
 "nbformat_minor": 5
}

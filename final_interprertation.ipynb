{
 "cells": [
  {
   "cell_type": "code",
   "execution_count": 2,
   "id": "05de6e05",
   "metadata": {},
   "outputs": [],
   "source": [
    "import numpy as np\n",
    "import pandas as pd\n",
    "import matplotlib.pyplot as plt\n",
    "import seaborn as sns\n",
    "import statsmodels.api as sm\n",
    "from sklearn.model_selection import train_test_split\n",
    "from itertools import combinations\n",
    "import numpy as np\n"
   ]
  },
  {
   "cell_type": "code",
   "execution_count": 3,
   "id": "1d7b60ac",
   "metadata": {},
   "outputs": [],
   "source": [
    "# Example: Load your dataset\n",
    "df = pd.read_csv(\"IBMDataset.csv\")\n",
    "\n",
    "# Target variable\n",
    "y = df['MonthlyIncome']\n",
    "\n",
    "# Select numerical predictors (or choose specific ones)\n",
    "X = df.select_dtypes(include=[np.number]).drop(['MonthlyIncome', 'EmployeeNumber'], axis=1)\n",
    "\n",
    "# Drop any columns with NaNs (optional)\n",
    "X = X.dropna(axis=1)\n"
   ]
  },
  {
   "cell_type": "code",
   "execution_count": 4,
   "id": "21ee6cfd",
   "metadata": {},
   "outputs": [],
   "source": [
    "def forward_selection(X, y, max_features=None):\n",
    "    remaining_features = list(X.columns)\n",
    "    selected_features = []\n",
    "    current_score, best_new_score = 0.0, 0.0\n",
    "    max_features = max_features or len(remaining_features)\n",
    "\n",
    "    while remaining_features and len(selected_features) < max_features:\n",
    "        scores_with_candidates = []\n",
    "        for candidate in remaining_features:\n",
    "            formula = selected_features + [candidate]\n",
    "            X_new = sm.add_constant(X[formula])\n",
    "            model = sm.OLS(y, X_new).fit()\n",
    "            score = model.rsquared_adj\n",
    "            scores_with_candidates.append((score, candidate))\n",
    "\n",
    "        scores_with_candidates.sort(reverse=True)\n",
    "        best_new_score, best_candidate = scores_with_candidates[0]\n",
    "\n",
    "        if best_new_score > current_score:\n",
    "            remaining_features.remove(best_candidate)\n",
    "            selected_features.append(best_candidate)\n",
    "            current_score = best_new_score\n",
    "            print(f\"Added: {best_candidate} | Adjusted R²: {current_score:.4f}\")\n",
    "        else:\n",
    "            break\n",
    "\n",
    "    return selected_features\n"
   ]
  },
  {
   "cell_type": "code",
   "execution_count": 5,
   "id": "182d71bc",
   "metadata": {},
   "outputs": [
    {
     "name": "stdout",
     "output_type": "stream",
     "text": [
      "Added: JobLevel | Adjusted R²: 0.9030\n",
      "Added: TotalWorkingYears | Adjusted R²: 0.9052\n",
      "Added: YearsWithCurrManager | Adjusted R²: 0.9059\n",
      "Added: DistanceFromHome | Adjusted R²: 0.9063\n",
      "Added: Age | Adjusted R²: 0.9065\n",
      "Added: YearsSinceLastPromotion | Adjusted R²: 0.9066\n",
      "Added: HourlyRate | Adjusted R²: 0.9066\n",
      "Final selected features: ['JobLevel', 'TotalWorkingYears', 'YearsWithCurrManager', 'DistanceFromHome', 'Age', 'YearsSinceLastPromotion', 'HourlyRate']\n"
     ]
    }
   ],
   "source": [
    "selected = forward_selection(X, y, max_features=10)\n",
    "print(\"Final selected features:\", selected)\n"
   ]
  },
  {
   "cell_type": "code",
   "execution_count": 6,
   "id": "636bb5df",
   "metadata": {},
   "outputs": [
    {
     "name": "stdout",
     "output_type": "stream",
     "text": [
      "                            OLS Regression Results                            \n",
      "==============================================================================\n",
      "Dep. Variable:          MonthlyIncome   R-squared:                       0.907\n",
      "Model:                            OLS   Adj. R-squared:                  0.907\n",
      "Method:                 Least Squares   F-statistic:                     2038.\n",
      "Date:                Mon, 05 May 2025   Prob (F-statistic):               0.00\n",
      "Time:                        23:38:51   Log-Likelihood:                -12771.\n",
      "No. Observations:                1470   AIC:                         2.556e+04\n",
      "Df Residuals:                    1462   BIC:                         2.560e+04\n",
      "Df Model:                           7                                         \n",
      "Covariance Type:            nonrobust                                         \n",
      "===========================================================================================\n",
      "                              coef    std err          t      P>|t|      [0.025      0.975]\n",
      "-------------------------------------------------------------------------------------------\n",
      "const                   -1467.3313    222.417     -6.597      0.000   -1903.622   -1031.041\n",
      "JobLevel                 3787.8458     54.639     69.324      0.000    3680.666    3895.026\n",
      "TotalWorkingYears          63.1518      9.691      6.517      0.000      44.142      82.161\n",
      "YearsWithCurrManager      -52.4908     13.060     -4.019      0.000     -78.108     -26.873\n",
      "DistanceFromHome          -12.8506      4.633     -2.774      0.006     -21.939      -3.762\n",
      "Age                       -11.3864      5.699     -1.998      0.046     -22.565      -0.208\n",
      "YearsSinceLastPromotion    19.1727     13.924      1.377      0.169      -8.140      46.486\n",
      "HourlyRate                  2.3230      1.851      1.255      0.210      -1.307       5.953\n",
      "==============================================================================\n",
      "Omnibus:                       11.420   Durbin-Watson:                   2.050\n",
      "Prob(Omnibus):                  0.003   Jarque-Bera (JB):               16.372\n",
      "Skew:                          -0.027   Prob(JB):                     0.000279\n",
      "Kurtosis:                       3.514   Cond. No.                         471.\n",
      "==============================================================================\n",
      "\n",
      "Notes:\n",
      "[1] Standard Errors assume that the covariance matrix of the errors is correctly specified.\n"
     ]
    }
   ],
   "source": [
    "X_selected = sm.add_constant(X[selected])\n",
    "model = sm.OLS(y, X_selected).fit()\n",
    "print(model.summary())\n"
   ]
  }
 ],
 "metadata": {
  "kernelspec": {
   "display_name": ".venv",
   "language": "python",
   "name": "python3"
  },
  "language_info": {
   "codemirror_mode": {
    "name": "ipython",
    "version": 3
   },
   "file_extension": ".py",
   "mimetype": "text/x-python",
   "name": "python",
   "nbconvert_exporter": "python",
   "pygments_lexer": "ipython3",
   "version": "3.10.12"
  }
 },
 "nbformat": 4,
 "nbformat_minor": 5
}
